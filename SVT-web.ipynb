{
 "cells": [
  {
   "cell_type": "code",
   "execution_count": null,
   "metadata": {},
   "outputs": [],
   "source": [
    "from os.path import splitext, basename\n",
    "from IPython.core.display import display, HTML\n",
    "\n",
    "def say(string, header=True):\n",
    "    if header:\n",
    "        string = f'<h1>{string}</h1>'\n",
    "    display(HTML(string))\n",
    "\n",
    "# Download code and files\n",
    "say('Downloading repository...')\n",
    "repoName = 'Semiology-Visualisation-Tool'\n",
    "repoDir = f'{repoName}-master'\n",
    "url = f'https://github.com/thenineteen/{repoName}/archive/master.zip'\n",
    "archiveFilePath = f'{repoName}.zip'\n",
    "outputDir = '.'\n",
    "downloadAndExtractArchive(url, archiveFilePath, outputDir)\n",
    "\n",
    "# Install\n",
    "say('Installing libraries...')\n",
    "pip_install(f'--quiet --editable {repoDir}')\n",
    "\n",
    "# Load module\n",
    "say('Loading module...')\n",
    "moduleFactory = slicer.app.moduleManager().factoryManager()\n",
    "modulePath = f'{repoDir}/slicer/SemiologyVisualisation.py'\n",
    "moduleFactory.registerModule(qt.QFileInfo(modulePath))\n",
    "stem = splitext(basename(modulePath))[0]\n",
    "moduleFactory.loadModules([stem])\n",
    "selectModule('SemiologyVisualisation')\n",
    "slicer.semiologyVisualisation.setLiteMode()\n",
    "\n",
    "# Preload data\n",
    "say('Loading data...')\n",
    "slicer.semiologyVisualisation.loadDataButton.clicked()\n",
    "\n",
    "say('Done')\n",
    "html = \"\"\"<a href=\"../desktop\" target=\"_blank\"><img src=\"https://www.slicer.org/img/3DSlicerLogo-H-Color-218x144.png\"/>\n",
    "<h1><center>Click here to open 3D Slicer in a new tab</center></h1></a>\"\"\"\n",
    "say(html, header=False)"
   ]
  }
 ],
 "metadata": {
  "kernelspec": {
   "display_name": "Slicer 4.11",
   "language": "python",
   "name": "slicer-4.11"
  },
  "language_info": {
   "file_extension": ".py",
   "mimetype": "text/x-python",
   "name": "python",
   "version": "3.6.7"
  }
 },
 "nbformat": 4,
 "nbformat_minor": 4
}