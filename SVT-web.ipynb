{
 "cells": [
  {
   "cell_type": "code",
   "execution_count": null,
   "metadata": {},
   "outputs": [],
   "source": [
    "repoName = 'Semiology-Visualisation-Tool'\n",
    "repoDir = f'{repoName}-master'\n",
    "url = f'https://github.com/thenineteen/{repoName}/archive/master.zip'\n",
    "archiveFilePath = f'{repoName}.zip'\n",
    "outputDir = '.'\n",
    "downloadAndExtractArchive(url, archiveFilePath, outputDir)\n",
    "pip_install(f'--quiet --editable {repoDir}')\n",
    "from os.path import splitext, basename\n",
    "moduleFactory = slicer.app.moduleManager().factoryManager()\n",
    "modulePath = f'{repoDir}/slicer/SemiologyVisualisation.py'\n",
    "moduleFactory.registerModule(qt.QFileInfo(modulePath))\n",
    "stem = splitext(basename(modulePath))[0]\n",
    "moduleFactory.loadModules([stem])\n",
    "selectModule('SemiologyVisualisation')\n",
    "import JupyterNotebooksLib as slicernb\n",
    "slicernb.AppWindow(contents='full')"
   ]
  }
 ],
 "metadata": {
  "kernelspec": {
   "display_name": "Python 3",
   "language": "python",
   "name": "python3"
  },
  "language_info": {
   "codemirror_mode": {
    "name": "ipython",
    "version": 3
   },
   "file_extension": ".py",
   "mimetype": "text/x-python",
   "name": "python",
   "nbconvert_exporter": "python",
   "pygments_lexer": "ipython3",
   "version": "3.7.7"
  }
 },
 "nbformat": 4,
 "nbformat_minor": 4
}
