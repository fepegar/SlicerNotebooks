{
 "cells": [
  {
   "cell_type": "markdown",
   "metadata": {},
   "source": [
    "<a href=\"../desktop\" target=\"_blank\"><img src=\"https://www.slicer.org/img/3DSlicerLogo-H-Color-218x144.png\"/>\n",
    "<h1><center>Click here to open 3D Slicer in a new window</center></h1></a>"
   ]
  },
  {
   "cell_type": "code",
   "execution_count": null,
   "metadata": {},
   "outputs": [],
   "source": [
    "from os.path import splitext, basename\n",
    "\n",
    "# Download code and files\n",
    "repoName = 'Semiology-Visualisation-Tool'\n",
    "repoDir = f'{repoName}-master'\n",
    "url = f'https://github.com/thenineteen/{repoName}/archive/master.zip'\n",
    "archiveFilePath = f'{repoName}.zip'\n",
    "outputDir = '.'\n",
    "downloadAndExtractArchive(url, archiveFilePath, outputDir)\n",
    "\n",
    "# Install\n",
    "pip_install(f'--quiet --editable {repoDir}')\n",
    "\n",
    "# Load module\n",
    "moduleFactory = slicer.app.moduleManager().factoryManager()\n",
    "modulePath = f'{repoDir}/slicer/SemiologyVisualisation.py'\n",
    "moduleFactory.registerModule(qt.QFileInfo(modulePath))\n",
    "stem = splitext(basename(modulePath))[0]\n",
    "moduleFactory.loadModules([stem])\n",
    "selectModule('SemiologyVisualisation')\n",
    "slicer.semiologyVisualisation.setLiteMode()\n",
    "\n",
    "# Preload data\n",
    "slicer.semiologyVisualisation.loadDataButton.clicked()"
   ]
  },
  {
   "cell_type": "code",
   "execution_count": null,
   "metadata": {},
   "outputs": [],
   "source": [
    "# Run this cell (Shift+Enter) to show application here\n",
    "import JupyterNotebooksLib as slicernb\n",
    "slicernb.AppWindow(contents='full')"
   ]
  }
 ],
 "metadata": {
  "kernelspec": {
   "display_name": "Slicer 4.11",
   "language": "python",
   "name": "slicer-4.11"
  },
  "language_info": {
   "file_extension": ".py",
   "mimetype": "text/x-python",
   "name": "python",
   "version": "3.6.7"
  }
 },
 "nbformat": 4,
 "nbformat_minor": 4
}